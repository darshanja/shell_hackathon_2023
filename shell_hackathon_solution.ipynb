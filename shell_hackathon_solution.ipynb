{
  "nbformat": 4,
  "nbformat_minor": 0,
  "metadata": {
    "colab": {
      "provenance": [],
      "authorship_tag": "ABX9TyOT+10pi6GkHiP26CmO51gK",
      "include_colab_link": true
    },
    "kernelspec": {
      "name": "python3",
      "display_name": "Python 3"
    },
    "language_info": {
      "name": "python"
    }
  },
  "cells": [
    {
      "cell_type": "markdown",
      "metadata": {
        "id": "view-in-github",
        "colab_type": "text"
      },
      "source": [
        "<a href=\"https://colab.research.google.com/github/darshanja/shell_hackathon_2023/blob/main/shell_hackathon_solution.ipynb\" target=\"_parent\"><img src=\"https://colab.research.google.com/assets/colab-badge.svg\" alt=\"Open In Colab\"/></a>"
      ]
    },
    {
      "cell_type": "code",
      "execution_count": null,
      "metadata": {
        "id": "TeWsfoX_S331"
      },
      "outputs": [],
      "source": [
        "import os\n",
        "import openai\n",
        "import pandas as pd\n",
        "import numpy as np\n",
        "import time"
      ]
    },
    {
      "cell_type": "markdown",
      "source": [
        "#### Read JSON data"
      ],
      "metadata": {
        "id": "5IiD9YzpTBGJ"
      }
    },
    {
      "cell_type": "code",
      "source": [
        "df = pd.read_json('datafinal.json')\n",
        "df.shape"
      ],
      "metadata": {
        "id": "jtXDP6T_S9mF"
      },
      "execution_count": null,
      "outputs": []
    },
    {
      "cell_type": "code",
      "source": [
        "df.isna().sum()"
      ],
      "metadata": {
        "id": "jgEaDWiDS9jS"
      },
      "execution_count": null,
      "outputs": []
    },
    {
      "cell_type": "code",
      "source": [
        "df.head()"
      ],
      "metadata": {
        "id": "6Qi8lirMS9gj"
      },
      "execution_count": null,
      "outputs": []
    },
    {
      "cell_type": "markdown",
      "source": [
        "### Setup Azure OpenAI GPT4"
      ],
      "metadata": {
        "id": "lJ2nIGvdTI-s"
      }
    },
    {
      "cell_type": "code",
      "source": [
        "openai.api_type = \"\"\n",
        "openai.api_base = \"\"\n",
        "openai.api_version = \"\"\n",
        "openai.api_key = \"\""
      ],
      "metadata": {
        "id": "_3eHc5NWS9d7"
      },
      "execution_count": null,
      "outputs": []
    },
    {
      "cell_type": "code",
      "source": [
        "def use_gpt4(system_prompts, paragraph, temperature= 0):\n",
        "    \"\"\"\n",
        "    This function uses the OpenAI API to generate natural language text using the GPT-4 model. It takes in two parameters:\n",
        "\n",
        "    system_prompts: str\n",
        "        The prompt given to the GPT-4 model to generate a response.\n",
        "\n",
        "    paragraph: str\n",
        "        The text that the GPT-4 model will use to generate a response to the system prompt.\n",
        "\n",
        "    temperature: float, optional\n",
        "        A value that controls the randomness and creativity of the generated text. A higher temperature will result in more\n",
        "        creative and varied responses, while a lower temperature will result in more predictable and conservative responses.\n",
        "        The default value is 0.\n",
        "\n",
        "    Returns:\n",
        "    str\n",
        "        The generated text response from the GPT-4 model.\n",
        "    \"\"\"\n",
        "    completion = openai.ChatCompletion.create(\n",
        "        engine='gpt-4-32k',\n",
        "        temperature=temperature,\n",
        "        messages=[\n",
        "            {\n",
        "                'role': 'system',\n",
        "                'content': system_prompt\n",
        "            },\n",
        "            {\n",
        "                'role': 'user',\n",
        "                'content': paragraph\n",
        "            }\n",
        "        ]\n",
        "    )\n",
        "\n",
        "    return completion['choices'][0]['message']['content']"
      ],
      "metadata": {
        "id": "g050kVGMS9bM"
      },
      "execution_count": null,
      "outputs": []
    },
    {
      "cell_type": "code",
      "source": [
        "def run_gpt4(df, system_prompts, temperature = 0):\n",
        "    \"\"\"\n",
        "    This function generates natural language text using the GPT-4 model for each row in a Pandas DataFrame. It takes in three parameters:\n",
        "\n",
        "    df: pandas.DataFrame\n",
        "        The DataFrame containing the text data to be used as input for the GPT-4 model.\n",
        "\n",
        "    system_prompts: str\n",
        "        The prompt given to the GPT-4 model to generate a response.\n",
        "\n",
        "    temperature: float, optional\n",
        "        A value that controls the randomness and creativity of the generated text. A higher temperature will result in more\n",
        "        creative and varied responses, while a lower temperature will result in more predictable and conservative responses.\n",
        "        The default value is 0.\n",
        "\n",
        "    Returns:\n",
        "    list\n",
        "        A list of generated text responses from the GPT-4 model for each row in the input DataFrame.\n",
        "    \"\"\"\n",
        "    pred_lst = []\n",
        "    for index, row in df.iterrows():\n",
        "        pred = use_gpt4(system_prompts=system_prompts, paragraph = row['Text'], temperature= temperature)\n",
        "        pred_lst.append(pred)\n",
        "        time.sleep(2)\n",
        "\n",
        "    return pred_lst"
      ],
      "metadata": {
        "id": "dPIndzcSS9Yn"
      },
      "execution_count": null,
      "outputs": []
    },
    {
      "cell_type": "code",
      "source": [
        "system_prompt = \"\"\"Check if there is any code snippet of any language in the given paragraph, if you find any code,\n",
        "just return the code else return No code found\"\"\""
      ],
      "metadata": {
        "id": "bO2UZ02AS9WH"
      },
      "execution_count": null,
      "outputs": []
    },
    {
      "cell_type": "code",
      "source": [
        "%%time\n",
        "code_pred_lst = run_gpt4(df=df, system_prompts=system_prompt, temperature = 0)"
      ],
      "metadata": {
        "id": "1UYKRZa3S9Tf"
      },
      "execution_count": null,
      "outputs": []
    },
    {
      "cell_type": "code",
      "source": [
        "df['pred_gpt4'] = code_pred_lst\n",
        "df.rename(columns={'CodeList':'CodeList_old'}, inplace=True)\n",
        "df.rename(columns={'pred_gpt4':'CodeList'}, inplace=True)\n",
        "df['CodeList'] = df['CodeList'].replace('No code found', '')\n",
        "df.head()"
      ],
      "metadata": {
        "id": "eR66w6htS9RF"
      },
      "execution_count": null,
      "outputs": []
    },
    {
      "cell_type": "code",
      "source": [
        "df[\"CodeList\"].fillna(\"\",inplace=True) ## Incase if it contain any NaN values"
      ],
      "metadata": {
        "id": "tygiQvsmS9Ol"
      },
      "execution_count": null,
      "outputs": []
    },
    {
      "cell_type": "code",
      "source": [
        "from sklearn.preprocessing import MultiLabelBinarizer\n",
        "mlb = MultiLabelBinarizer()\n",
        "s1 = df[\"CodeList\"]\n",
        "t1 = mlb.fit_transform(s1)"
      ],
      "metadata": {
        "id": "xS1j4OyDS9ME"
      },
      "execution_count": null,
      "outputs": []
    },
    {
      "cell_type": "code",
      "source": [
        "submission = pd.DataFrame(t1)\n",
        "submission = submission.iloc[:,:93]\n",
        "submission.to_csv(\"submission.csv\",index=False)\n",
        "submission"
      ],
      "metadata": {
        "id": "nYMiTeomS9JX"
      },
      "execution_count": null,
      "outputs": []
    },
    {
      "cell_type": "code",
      "source": [],
      "metadata": {
        "id": "migCJXn2S9Gk"
      },
      "execution_count": null,
      "outputs": []
    },
    {
      "cell_type": "code",
      "source": [],
      "metadata": {
        "id": "bLUzIHwDS9Dv"
      },
      "execution_count": null,
      "outputs": []
    }
  ]
}